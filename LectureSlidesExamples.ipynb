{
 "cells": [
  {
   "cell_type": "markdown",
   "id": "e4408347",
   "metadata": {},
   "source": [
    "# This notebook contains all models used in the lecture slides"
   ]
  },
  {
   "cell_type": "markdown",
   "id": "62429b19",
   "metadata": {},
   "source": [
    "#  Introduction: KIVA model\n",
    "Only a part of the KIVA model is shown. The rest of the model can be found in the lecture notes "
   ]
  },
  {
   "cell_type": "code",
   "execution_count": null,
   "id": "a0f85500",
   "metadata": {},
   "outputs": [],
   "source": [
    "def model():\n",
    "    N = 1      \n",
    "    la = 4.0    \n",
    "    mu = 20.0   \n",
    "\n",
    "    env = Environment()\n",
    "    a = Channel(env)\n",
    "    b = Channel(env)\n",
    "    c = Channel(env)\n",
    "    G = Generator(env, a, N)\n",
    "    Ss = [Storage(env, a, b, la) for j in range(N)]\n",
    "    B = Buffer(env, b, c)\n",
    "    P = Pick(env, c, a, mu, 10000)\n",
    "\n",
    "    env.run()"
   ]
  },
  {
   "cell_type": "markdown",
   "id": "c0cc7baf",
   "metadata": {},
   "source": [
    "## Week 2a: coincidence problem"
   ]
  },
  {
   "cell_type": "code",
   "execution_count": 1,
   "id": "88860c0c",
   "metadata": {},
   "outputs": [
    {
     "name": "stdout",
     "output_type": "stream",
     "text": [
      "PyCh version 0.2 imported succesfully.\n",
      " \n",
      "Probability of common acquaintance = 0.1775\n"
     ]
    }
   ],
   "source": [
    "'''\n",
    "Week 2a coincidence problem\n",
    "'''\n",
    "from PyCh import *\n",
    "from numpy import random\n",
    "\n",
    "def acquaintance():\n",
    "    success = 0\n",
    "    N = 10000\n",
    "    population = 200000\n",
    "    frA = 200\n",
    "    frB = 200\n",
    "    \n",
    "    for i in range(N):\n",
    "        s = []\n",
    "        for j in range(0, frB): # generate friends of B\n",
    "            while True:\n",
    "                k = random.randint(1, population)\n",
    "                if k not in s:\n",
    "                    break\n",
    "            s = s + [k];\n",
    "            ### BEGIN SOLUTION\n",
    "            if k <= frA:\n",
    "                success = success + 1\n",
    "                break\n",
    "            ### END SOLUTION\n",
    "    print(\"Probability of common acquaintance =\", (success/N) )\n",
    "    \n",
    "### MAIN ###\n",
    "acquaintance()"
   ]
  },
  {
   "cell_type": "markdown",
   "id": "8407a605",
   "metadata": {},
   "source": [
    "# Week 5a: GBME\n",
    "Only a part of the model is shown."
   ]
  },
  {
   "cell_type": "code",
   "execution_count": null,
   "id": "58da6f46",
   "metadata": {},
   "outputs": [],
   "source": [
    "def model():\n",
    "    ta = 1.0\n",
    "    te = 1.0\n",
    "    n  = 1000\n",
    "    N = 10\n",
    "\n",
    "    env = Environment()\n",
    "    a = Channel(env)\n",
    "    b = Channel(env)\n",
    "    c = Channel(env)\n",
    "    G = Generator(env, a, lambda: random.exponential(ta))\n",
    "    B = Buffer(env, a, b,  N)\n",
    "    M = Machine(env, b, c, lambda: random.exponential(te))\n",
    "    E = Exit(env, c, n)\n",
    "\n",
    "    env.run()"
   ]
  },
  {
   "cell_type": "markdown",
   "id": "5c5a8e38",
   "metadata": {},
   "source": [
    "## Week 6a: central limit theorem"
   ]
  },
  {
   "cell_type": "code",
   "execution_count": 13,
   "id": "ce7e088f",
   "metadata": {},
   "outputs": [],
   "source": [
    "### IMPORTS\n",
    "from numpy import random\n",
    "\n",
    "\n",
    "### Central limit function\n",
    "def centrallimit():\n",
    "    n = 100\n",
    "    N = 30000\n",
    "    sum = 0.0\n",
    "    results = []\n",
    "    for i in range(N):\n",
    "        sum = 0.0\n",
    "        for j in range(n):\n",
    "            if random.random() < 0.5:\n",
    "                sum = sum + random.binomial(20, 0.1)\n",
    "            else:\n",
    "                sum = sum + random.binomial(20, 0.9);\n",
    "        results = results + [sum]\n",
    "    return results\n",
    "    \n",
    "# =================================\n",
    "# Main\n",
    "# =================================\n",
    "results = centrallimit()"
   ]
  },
  {
   "cell_type": "markdown",
   "id": "6f05a998",
   "metadata": {},
   "source": [
    "Now if we want, we can use the results to plot a histogram"
   ]
  },
  {
   "cell_type": "code",
   "execution_count": 14,
   "id": "0640525b",
   "metadata": {},
   "outputs": [
    {
     "data": {
      "image/png": "[encoded data removed]",
      "text/plain": [
       "<Figure size 640x480 with 1 Axes>"
      ]
     },
     "metadata": {},
     "output_type": "display_data"
    }
   ],
   "source": [
    "from matplotlib import pyplot as plt\n",
    "\n",
    "h = plt.hist(results, density = True, bins = 100)\n",
    "plt.show()"
   ]
  },
  {
   "cell_type": "markdown",
   "id": "4e7cf0be",
   "metadata": {},
   "source": [
    "---\n",
    "It is also possible to create a model which writes to an output file"
   ]
  },
  {
   "cell_type": "code",
   "execution_count": null,
   "id": "f3b2bdcf",
   "metadata": {},
   "outputs": [],
   "source": [
    "### Central limit function\n",
    "def centrallimit_write2txt():\n",
    "    n = 10\n",
    "    N = 30000\n",
    "    sum = 0.0\n",
    "    file = open(\"data.txt\", \"w\");\n",
    "    for i in range(N):\n",
    "        sum = 0.0\n",
    "        for j in range(n):\n",
    "            if random.random() < 0.5:\n",
    "                sum = sum + random.binomial(20, 0.1)\n",
    "            else:\n",
    "                sum = sum + random.binomial(20, 0.9);\n",
    "        file.write(\"\\%g \" % sum)\n",
    "    write(file, \"\\%g \", sum);\n",
    "    file.close()\n",
    "    \n",
    "# =================================\n",
    "# Main\n",
    "# =================================\n",
    "centrallimit()"
   ]
  },
  {
   "cell_type": "markdown",
   "id": "40b03255",
   "metadata": {},
   "source": [
    "## Week 6a: Confidence intervals for waiting time in single machine station"
   ]
  },
  {
   "cell_type": "code",
   "execution_count": 29,
   "id": "045c0616",
   "metadata": {},
   "outputs": [
    {
     "name": "stdout",
     "output_type": "stream",
     "text": [
      "Mean waiting time in run 1 = 0.135008\n",
      "Mean waiting time in run 2 = 0.128126\n",
      "Mean waiting time in run 3 = 0.147073\n",
      "Mean waiting time in run 4 = 0.20386\n",
      "Mean waiting time in run 5 = 0.141099\n"
     ]
    }
   ],
   "source": [
    "from PyCh import *\n",
    "from statistics import mean\n",
    "\n",
    "# =================================\n",
    "# Tote definition\n",
    "# =================================\n",
    "@dataclass\n",
    "class Job:\n",
    "    entrytime: float = 0\n",
    "    time_entered_buffer: float = 0\n",
    "\n",
    "# =================================\n",
    "# Generator definition\n",
    "# =================================\n",
    "@process\n",
    "def Generator(env, sending_channel, u):\n",
    "    while True:\n",
    "        x = Job(entrytime = env.now)\n",
    "        yield env.execute(sending_channel.send(x))\n",
    "        yield env.timeout(u())\n",
    "\n",
    "# =================================\n",
    "# Buffer definition\n",
    "# =================================\n",
    "@process\n",
    "def Buffer(env, receiving_channel, sending_channel, waitingtime):\n",
    "    xs = [] # list of jobs\n",
    "    while True:\n",
    "        receiving = receiving_channel.receive() \n",
    "        sending = sending_channel.send(xs[0]) if len(xs)>0 else None\n",
    "        yield env.select(sending, receiving)\n",
    "        if selected(sending):\n",
    "            waitingtime.append(env.now - xs[0].time_entered_buffer)\n",
    "            xs = xs[1:]\n",
    "        if selected(receiving):\n",
    "            x = receiving.entity\n",
    "            x.time_entered_buffer = env.now\n",
    "            xs = xs + [x]\n",
    "\n",
    "# =================================\n",
    "# Machine definition\n",
    "# =================================\n",
    "@process\n",
    "def Machine(env, receiving_channel, sending_channel, tp_distribution ):\n",
    "    while True:\n",
    "        x = yield env.execute(receiving_channel.receive())\n",
    "        yield env.timeout(tp_distribution())\n",
    "        yield env.execute(sending_channel.send(x))         \n",
    "\n",
    "# =================================\n",
    "# Exit definition\n",
    "# =================================\n",
    "@process\n",
    "def Exit(env, receiving_channel, nJobs, flowtime):\n",
    "    for j in range(nJobs):\n",
    "        x = yield env.select(receiving_channel.receive())\n",
    "        flowtime.append(env.now - x.entrytime);\n",
    "\n",
    "# =================================\n",
    "# GBME Model\n",
    "# =================================\n",
    "def GBME():\n",
    "    flowtime = []; waitingtime = []\n",
    "    env = Environment()\n",
    "    a = Channel(env)\n",
    "    b = Channel(env)\n",
    "    c = Channel(env)\n",
    "    G = Generator(env, a,  lambda: random.uniform(0.0, 2.0))\n",
    "    B = Buffer(env, a, b, waitingtime)\n",
    "    M = Machine(env, b, c,  lambda: random.uniform(0.0, 1.0))\n",
    "    E = Exit(env, c, 1000, flowtime)\n",
    "    env.run(until=E)\n",
    "    return mean(waitingtime), mean(flowtime)\n",
    "\n",
    "# =================================\n",
    "# Main\n",
    "# =================================\n",
    "for i in range(5):\n",
    "    mean_waitingtime, mean_flowtime = GBME()\n",
    "    print(f\"Mean waiting time in run {i+1:d} = {mean_waitingtime:g}\")\n",
    "    "
   ]
  },
  {
   "cell_type": "markdown",
   "id": "b66bdb01",
   "metadata": {},
   "source": [
    "## Week 6b: Serial production lines"
   ]
  },
  {
   "cell_type": "markdown",
   "id": "4321462b",
   "metadata": {},
   "source": [
    "We only need to redefine the exit and the model"
   ]
  },
  {
   "cell_type": "code",
   "execution_count": null,
   "id": "df169202",
   "metadata": {},
   "outputs": [],
   "source": [
    "# =================================\n",
    "# Model\n",
    "# =================================\n",
    "def model():\n",
    "    flowtime = []\n",
    "    waitingtime = []\n",
    "\n",
    "    env = Environment()\n",
    "    a = [ Channel(env) for i in range(3)]\n",
    "    b = [ Channel(env) for i in range(2)]\n",
    "    G  = Generator(env, a[0], lambda: random.exponential(0.5))\n",
    "    B1 = Buffer(   env, a[0], b[0], waitingtime)\n",
    "    M1 = Machine(  env, b[0], a[1], lambda: 0.33)\n",
    "    B2 = Buffer(   env, a[1], b[1], waitingtime)\n",
    "    M2 = Machine(  env, b[1], a[2], lambda: random.uniform(0.0, 0.8))\n",
    "    E  = Exit(     env, a[2], 100000, flowtime)\n",
    "\n",
    "    env.run()\n",
    "\n",
    "    print(f\"Mean flowtime = {mean(flowtime):g}\" )\n",
    "    \n",
    "# =================================\n",
    "# Main\n",
    "# =================================\n",
    "model()"
   ]
  },
  {
   "cell_type": "code",
   "execution_count": null,
   "id": "356b1d3d",
   "metadata": {},
   "outputs": [],
   "source": []
  }
 ],
 "metadata": {
  "kernelspec": {
   "display_name": "Python (pychEnv)",
   "language": "python",
   "name": "pychenv"
  },
  "language_info": {
   "codemirror_mode": {
    "name": "ipython",
    "version": 3
   },
   "file_extension": ".py",
   "mimetype": "text/x-python",
   "name": "python",
   "nbconvert_exporter": "python",
   "pygments_lexer": "ipython3",
   "version": "3.12.7"
  }
 },
 "nbformat": 4,
 "nbformat_minor": 5
}
