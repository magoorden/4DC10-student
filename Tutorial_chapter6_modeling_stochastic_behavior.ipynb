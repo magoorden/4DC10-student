{
 "cells": [
  {
   "cell_type": "markdown",
   "id": "d620fbe6",
   "metadata": {},
   "source": [
    "**To use the examples in this chapter, first run the code below to import the right libraries.**\n",
    "\n",
    "The distributions used in this chapter are retrieved from the `random` module from the `numpy` library."
   ]
  },
  {
   "cell_type": "code",
   "execution_count": null,
   "id": "7600074b",
   "metadata": {},
   "outputs": [],
   "source": [
    "# =================================\n",
    "# Imports\n",
    "# =================================\n",
    "from numpy import random\n",
    "from dataclasses import dataclass\n",
    "from matplotlib import pyplot as plt"
   ]
  },
  {
   "cell_type": "markdown",
   "id": "2ded53dd",
   "metadata": {},
   "source": [
    "# 6 Modeling stochastic behavior"
   ]
  },
  {
   "cell_type": "markdown",
   "id": "dae9790e",
   "metadata": {},
   "source": [
    "Many processes in the world vary a little bit each time they are performed. Setup of machines goes a bit faster or slower, patients taking their medicine takes longer this morning, more products are delivered today, or the quality of the manufactured product degrades due to a tired operator. Modeling such variations is often done with stochastic distributions. A distribution has a mean value and a known shape of variation. By matching the means and the variation shape with data from the system being modeled, an accurate model of the system can be obtained. We use the `numpy.random` library, which has many stochastic distributions available. This chapter explains how to use them to model a system, and lists a few commonly used distributions. \n",
    "\n",
    "The following fragment illustrates the use of the random distribution to model a dice. Each value of the six-sided dice is equally likely to appear. Every value having the same probability of appearing is a property of the integer\n",
    "uniform distribution, in this case using interval $[1, 7)$ (inclusive on the left side, exclusive on the right side).\n",
    "\n",
    "In the fragment, the distribution `dice` is defined using a lambda function of the `numpy.random` random integer function `randint` (more on the `randint` later in section 6.2). We simulate two dice throws by taking two samples of this distribution by calling `dice()`.\n"
   ]
  },
  {
   "cell_type": "code",
   "execution_count": null,
   "id": "17f41786",
   "metadata": {},
   "outputs": [],
   "source": [
    "dice = lambda: random.randint(1,7)  # Defining the distribution through a lambda function\n",
    "\n",
    "# Taking two random samples\n",
    "dice_throw1 = dice()\n",
    "dice_throw2 = dice()\n",
    "\n",
    "print(f\"The dice land on {dice_throw1} and {dice_throw2}.\")"
   ]
  },
  {
   "cell_type": "markdown",
   "id": "f7c13bdb",
   "metadata": {},
   "source": [
    "## 6.1 Lambda functions"
   ]
  },
  {
   "cell_type": "markdown",
   "id": "881b5edd",
   "metadata": {},
   "source": [
    "Lambda functions are like a simplified version of normal python functions. While other functions are defined using the `def` keyword, the lambda function is defined using the `lambda` keyword. There are many reasons for using lambda functions. However, in this course, we will use lambda functions for one purpose only: to define stochastic distributions. If you want to find out about other uses of lambda function [click here](https://realpython.com/python-lambda/).\n",
    "\n",
    "Below we find the most simple example of defining a stochastic distribution with the lambda function. A constant distribution `u` is defined, which when sampled returns `3`. We can take a sample by calling `u()`. More will be explained on constant distributions and other distributions in the next section."
   ]
  },
  {
   "cell_type": "code",
   "execution_count": null,
   "id": "9455f44c",
   "metadata": {},
   "outputs": [],
   "source": [
    "u = lambda: 3  # Defining the constant distribution\n",
    "y = u()        # Taking a sample\n",
    "print(f\"The value {y} was sampled.\")"
   ]
  },
  {
   "cell_type": "markdown",
   "id": "e69864cc",
   "metadata": {},
   "source": [
    "Lambda functions are defined as `lambda <input parameters> : <output function>`. As you can see, they can also accept input parameters.\n",
    "\n",
    "Below is an example in which we define a function for throwing an n-sided dice, which takes `n` as input, and returns a random integer between `1` up to and including `n`."
   ]
  },
  {
   "cell_type": "code",
   "execution_count": null,
   "id": "c4daba9c",
   "metadata": {},
   "outputs": [],
   "source": [
    "dice = lambda n: random.randint(1,n+1)     # We define a function for throwing an x-sided dice.\n",
    "dice_throw = dice(20)                      # We sample throwing a 20-sided dice\n",
    "print(f\"The dice lands on {dice_throw}.\")"
   ]
  },
  {
   "cell_type": "markdown",
   "id": "b9fd0fae",
   "metadata": {},
   "source": [
    "## 6.2 Distributions"
   ]
  },
  {
   "cell_type": "markdown",
   "id": "f238fd92",
   "metadata": {},
   "source": [
    "In our models we use both constant, discrete and continuous distributions. A discrete distribution is a distribution where only  specific values can be drawn, for example throwing a dice gives an integer number. A continuous distribution is a distribution where a value from a continuous range can be drawn, for example assembling a product takes a positive amount of time. The constant distributions are discrete distributions that always return the same value. They are useful during the development of the model. A list of distributions and information on how to use them can be found [here](https://numpy.org/doc/1.16/reference/routines.random.html)."
   ]
  },
  {
   "cell_type": "markdown",
   "id": "17bc2c9f",
   "metadata": {},
   "source": [
    "### 6.2.1 Constant distributions"
   ]
  },
  {
   "cell_type": "markdown",
   "id": "c3d3ed47",
   "metadata": {},
   "source": [
    "When developing a model with stochastic behavior, it is hard to verify whether the model behaves correctly, since the stochastic results\n",
    "make it difficult to predict the outcome of experiments. As a result, errors in the model may not be noticed, they hide in the noise of\n",
    "the stochastic results.\n",
    "One solution is to first write a model without stochastic behavior, verify that model, and then extend the model with stochastic sampling.\n",
    "Extending the model with stochastic behavior is however an invasive change that may introduce new errors. These errors are again hard to\n",
    "find due to the difficulties to predict the outcome of an experiment.\n",
    "The constant distributions aim to narrow the gap by reducing the amount of changes that need to be done after verification.\n",
    "\n",
    "With constant distributions, a stochastic model with sampling of distributions is developed, but the stochastic behavior is eliminated by\n",
    "temporarily using constant distributions. The model performs stochastic sampling of values, but with predictable outcome,\n",
    "and thus with predictable experimental results, making verification easier. After verifying the model, the constant distributions are replaced with the\n",
    "distributions that fit the mean value and variation pattern of the modeled system, giving a model with stochastic behavior.\n",
    "Changing the used distributions is however much less invasive, making it less likely to introduce new errors at this stage in the development of the model.\n",
    "\n",
    "An example of a constant distribution was already shown before, but here it is repeated:"
   ]
  },
  {
   "cell_type": "code",
   "execution_count": null,
   "id": "065d6f01",
   "metadata": {},
   "outputs": [],
   "source": [
    "u = lambda: 3  # Defining the constant distribution\n",
    "y = u()        # Taking a sample\n",
    "print(f\"The value {y} was sampled.\")"
   ]
  },
  {
   "cell_type": "markdown",
   "id": "ce1597f3",
   "metadata": {},
   "source": [
    "### 6.2.2 Discrete distributions"
   ]
  },
  {
   "cell_type": "markdown",
   "id": "44cc4abc",
   "metadata": {},
   "source": [
    "Discrete distributions return values from a finite fixed set of possible values as answer. In the `numpy.random` library, there are a few discrete distributions we can sample from: `randint` (uniform discrete), `binomial` (which can also be used for the bernoulli distribution), and `choice` (choosing randomly from a list). Below we show examples of these distributions."
   ]
  },
  {
   "cell_type": "markdown",
   "id": "bb35c3e7",
   "metadata": {},
   "source": [
    "#### Discrete uniform\n",
    "\n",
    "The `random.randint(a, b)` function allows us to sample from a uniform discrete distribution that has several equally likely outcomes for the numbers `{a, a+1, a+2, ..., b-2, b-1}`. Note that `b` is not included. More information and options can be found [here](https://numpy.org/doc/stable/reference/random/generated/numpy.random.randint.html).\n",
    "\n",
    "- Function: `random.randint(a, b)`\n",
    "- Parameters:\n",
    "   - `a`: lower bound\n",
    "   - `b`: upper bound (exclusive!)\n",
    "- Mean:  $\\frac{a+b-1}{2}$\n",
    "- Variance:  $\\frac{(b-a)^2-1}{12}$\n",
    "\n",
    "| Figure 6.2: Discrete uniform distribution |\n",
    "- \n",
    "<img src=\"figures/6-disc_uni.png\" width=400>\n",
    "<a id='fig:6-2'></a>\n",
    "\n",
    "An example of `randint` was shown in the 6-sided dice example, which is repeated below. It has a lower bound of `1`, and an upper bound of `7`."
   ]
  },
  {
   "cell_type": "code",
   "execution_count": null,
   "id": "b711a0e5",
   "metadata": {},
   "outputs": [],
   "source": [
    "dice = lambda: random.randint(1,7)  # Defining the distribution through a lambda function\n",
    "\n",
    "# Taking two random samples\n",
    "dice_throw1 = dice()\n",
    "dice_throw2 = dice()\n",
    "\n",
    "print(f\"The dice land on {dice_throw1} and {dice_throw2}.\")"
   ]
  },
  {
   "cell_type": "markdown",
   "id": "fbef1ad6",
   "metadata": {},
   "source": [
    "---\n",
    "#### Binomial distribution\n",
    "The binomial distribution `binomial(n, p)` allows us to sample from a discrete distribution which is used to model the outcome of an experiment with `n` trials, each with `p` chance of succes. More information and options can be found [here](https://numpy.org/doc/stable/reference/random/generated/numpy.random.binomial.html).\n",
    "\n",
    "- Function: `random.binomial(n,p)`\n",
    "- Parameters:\n",
    "    - n: number of trials\n",
    "    - p: chance of succes for each trial\n",
    "- Mean: $np$\n",
    "- Variance: $np(1-p)$\n",
    "\n",
    "Below we show an example of the binomial distribution, in which we model the flipping of a coin `10` times, with `p = 0.5` probability of succes (heads)."
   ]
  },
  {
   "cell_type": "code",
   "execution_count": null,
   "id": "646c8920",
   "metadata": {},
   "outputs": [],
   "source": [
    "p = 0.5  # probability of heads\n",
    "coin_flipping = lambda n : random.binomial(n, p)  # Defining the binomial distribution for flipping a coin n times\n",
    "\n",
    "N = 10\n",
    "heads = coin_flipping(N)\n",
    "print(f\"We flip a coin {N} times, it lands on head {heads} times.\")"
   ]
  },
  {
   "cell_type": "markdown",
   "id": "a92f91b2",
   "metadata": {},
   "source": [
    "---\n",
    "#### Bernoulli distribution\n",
    "\n",
    "A special case of the Binomial distribution is the Bernoulli distribution, which is the case in which `n = 1`, and thus has two possible outcomes: 0 and 1. The bernoulli distribution can be samples from with `random.binomial(1, p)`. \n",
    "\n",
    "- Function: `random.binomial(1,p)`\n",
    "- Parameters:\n",
    "    - p: chance of succes for each trial\n",
    "- Mean: $p$\n",
    "- Variance: $p(1-p)$\n",
    "\n",
    "This is a useful distribution for sampling behaviour of which the outcomes is either true or false. \n",
    "\n",
    "| Figure 6.1: Bernoulli distribution|\n",
    "- \n",
    "<img src=\"figures/6-bernoulli.png\" width=400>\n",
    "<a id='fig:6-1'></a>\n"
   ]
  },
  {
   "cell_type": "markdown",
   "id": "7e3d728f",
   "metadata": {},
   "source": [
    "\n",
    "Below is an example in which we plot the outcome of taking 100 samples of a coin flip."
   ]
  },
  {
   "cell_type": "code",
   "execution_count": null,
   "id": "2609c27a",
   "metadata": {},
   "outputs": [],
   "source": [
    "p = 0.5\n",
    "N_samples = 100\n",
    "samples = random.binomial(1, p, N_samples)  # We take N samples of the bernoulli distribution\n",
    "n_heads = sum(samples)\n",
    "n_tails = N_samples - sum(samples)\n",
    "print(f\"The result of the coin flips is: {n_heads} times heads, {n_tails} times tails.\")\n",
    "\n",
    "# Creating a stem plot\n",
    "fig, ax1 = plt.subplots();\n",
    "ax1.stem([\"Tails\", \"Heads\"], [n_tails, n_heads], basefmt=\" \", linefmt = \"r-\", markerfmt=\"ro\");\n",
    "ax1.set_ylim(0, N_samples);\n",
    "ax1.set_xlim(-0.5, 1.5);"
   ]
  },
  {
   "cell_type": "markdown",
   "id": "865966d2",
   "metadata": {},
   "source": [
    "---\n",
    "#### Random choice\n",
    "The `random.choice(l)` function allows us to rake a random sample from a list `l`. The function assumes assumes a uniform distribution; each entry in the list has the same probability. More information and options can be found [here](https://numpy.org/doc/stable/reference/random/generated/numpy.random.choice.html).\n",
    "\n",
    "- Function: `random.choice(l)`\n",
    "- Parameters:\n",
    "    - l: list from which a sample is taken"
   ]
  },
  {
   "cell_type": "code",
   "execution_count": null,
   "id": "9268d471",
   "metadata": {},
   "outputs": [],
   "source": [
    "l = [2, 3.0, \"a string\"]                  # The list from which we choose randomly\n",
    "RandomChoice = lambda : random.choice(l)  # Defining the binomial distribution for flipping a coin n times\n",
    "\n",
    "sample = RandomChoice()\n",
    "print(f\"We sample {sample}.\")"
   ]
  },
  {
   "cell_type": "markdown",
   "id": "176ba4b3",
   "metadata": {},
   "source": [
    "### 6.2.3 Continuous distributions"
   ]
  },
  {
   "cell_type": "markdown",
   "id": "5a56af77",
   "metadata": {},
   "source": [
    "Continuous distributions return a value from a continuous range."
   ]
  },
  {
   "cell_type": "markdown",
   "id": "534df3bb",
   "metadata": {},
   "source": [
    "#### Continuous uniform\n",
    "The `random.uniform(a, b)` function allows us to sample from a continuous distribution with equal chance of sampling each value in the range $[a,b)$. Note that $b$ is not included. More information and options can be found [here](https://numpy.org/doc/stable/reference/random/generated/numpy.random.uniform.html).\n",
    "\n",
    "- Function: `random.uniform(a, b)`\n",
    "- Parameters:\n",
    "   - `a`: lower bound\n",
    "   - `b`: upper bound (exclusive!)\n",
    "- Mean:  $\\frac{a+b}{2}$\n",
    "- Variance:  $\\frac{(b-a)^2}{12}$\n",
    "\n",
    "| Figure 6.3: Continuous uniform distribution|\n",
    "- \n",
    "<img src=\"figures/6-cont_uni.png\" width=400>\n",
    "<a id='fig:6-3'></a>\n",
    "\n",
    "Below is an example:"
   ]
  },
  {
   "cell_type": "code",
   "execution_count": null,
   "id": "8733cf7f",
   "metadata": {},
   "outputs": [],
   "source": [
    "a = 1 # lower bound\n",
    "b = 5 # upper bound\n",
    "distribution = lambda : random.uniform(a,b)\n",
    "\n",
    "sample = distribution()\n",
    "print(f\"We sample {sample:.4f}.\")"
   ]
  },
  {
   "cell_type": "markdown",
   "id": "7cf55e72",
   "metadata": {},
   "source": [
    "---\n",
    "#### Gamma\n",
    "The `random.gamma(a, b)` function allows us to sample from a gamma distribution which has either a decreasing probability function, or a peak. More information and options can be found [here](https://numpy.org/doc/stable/reference/random/generated/numpy.random.gamma.html).\n",
    "\n",
    "- Function: `random.gamma(a, b)`\n",
    "- Parameters:\n",
    "   - `a`: shape parameter\n",
    "   - `b`: scale parameter\n",
    "- Mean:  $ab$\n",
    "- Variance:  $ab^2$\n",
    "\n",
    "| Figure 6.4: Gamma distribution|\n",
    "- \n",
    "<img src=\"figures/6-gamma.png\" width=400>\n",
    "<a id='fig:6-4'></a>\n",
    "\n",
    "Below is an example:"
   ]
  },
  {
   "cell_type": "code",
   "execution_count": null,
   "id": "d4ad80b3",
   "metadata": {},
   "outputs": [],
   "source": [
    "a = 6.0 # shape parameter\n",
    "b = 0.5 # scale parameter\n",
    "u = lambda : random.gamma(a,b)\n",
    "\n",
    "sample = u()\n",
    "print(f\"We sample {sample:.4f}.\")"
   ]
  },
  {
   "cell_type": "markdown",
   "id": "f2f3098c",
   "metadata": {},
   "source": [
    "---\n",
    "#### Normal distribution\n",
    "\n",
    "The `random.randn()` function generates a random float sampled from a univariate “normal” (Gaussian) distribution of mean 0 and variance 1. More information and options can be found [here](https://numpy.org/doc/stable/reference/random/generated/numpy.random.gamma.html). For random samples from $N(\\mu,\\sigma^2)$ use the following function:\n",
    "- Function: `sigma * random.randn() + mu`\n",
    "- Parameters:\n",
    "   - `mu`: mean\n",
    "   - `sigma`: standard deviation\n",
    "- Mean:  $\\mu$ (`mu`)\n",
    "- Variance:  $\\sigma^2$ (`sigma`)\n",
    "\n",
    "Below is an example:"
   ]
  },
  {
   "cell_type": "code",
   "execution_count": null,
   "id": "bba6a54a",
   "metadata": {},
   "outputs": [],
   "source": [
    "mu = 10 # mean\n",
    "sigma = 2 # standard deviation\n",
    "distribution = lambda : sigma * random.randn() + mu\n",
    "\n",
    "sample = distribution()\n",
    "print(f\"We sample {sample:.4f}.\")"
   ]
  },
  {
   "cell_type": "markdown",
   "id": "aa739dee",
   "metadata": {},
   "source": [
    "---\n",
    "#### Exponential distribution\n",
    "\n",
    "The `random.exponential(a)` function allows us to draw samples from an exponential distribution. Its probability density function is $ a e^{-ax}$, for x > 0 and 0 elsewhere. $a$ is the scale parameter. More information and options can be found [here](https://numpy.org/doc/stable/reference/random/generated/numpy.random.exponential.html). \n",
    "\n",
    "- Function: `random.exponential(a)`\n",
    "- Parameters:\n",
    "   - `a`: scale parameter\n",
    "- Mean:  $\\frac{1}{a}$\n",
    "- Variance:  $\\frac{1}{a^2}$\n",
    "\n",
    "Below is an example:"
   ]
  },
  {
   "cell_type": "code",
   "execution_count": null,
   "id": "6fc9e53b",
   "metadata": {},
   "outputs": [],
   "source": [
    "a = 2\n",
    "distribution = lambda : random.exponential(a)\n",
    "\n",
    "sample = distribution()\n",
    "print(f\"We sample {sample:.4f}.\")"
   ]
  },
  {
   "cell_type": "markdown",
   "id": "9a8889d7",
   "metadata": {},
   "source": [
    "---\n",
    "#### Poisson distribution\n",
    "The function `random.poisson(lambda)` allows us to draw samples from a Poisson distribution. The Poisson distribution expresses the probability of a given number of events occurring in a fixed interval of time or space if these events occur with a known constant mean rate and independently of the time since the last event. More information and options can be found [here](https://numpy.org/doc/stable/reference/random/generated/numpy.random.poisson.html). \n",
    "\n",
    "- Function: `random.poisson(lambda)`\n",
    "- Parameters:\n",
    "    - `lambda`: expected number of events occurring in a fixed-time interval\n",
    "- Mean:  $\\lambda$ (`lambda`)\n",
    "- Variance:  $\\lambda$ (`lambda`)\n",
    "\n",
    "Below is an example:"
   ]
  },
  {
   "cell_type": "code",
   "execution_count": null,
   "id": "8f7366a2",
   "metadata": {},
   "outputs": [],
   "source": [
    "lam = 3\n",
    "distribution = lambda : random.poisson(lam)\n",
    "\n",
    "sample = distribution()\n",
    "print(f\"We sample {sample:.4f}.\")"
   ]
  },
  {
   "cell_type": "markdown",
   "id": "2fba876d",
   "metadata": {},
   "source": [
    "## 6.3 Simulating stochastic behavior"
   ]
  },
  {
   "cell_type": "markdown",
   "id": "131bd878",
   "metadata": {},
   "source": [
    "In this chapter, the mathematical notion of stochastic distribution is used to describe how to model stochastic behavior.\n",
    "Simulating a model with stochastic behavior at a computer is however not stochastic at all. Computer systems are deterministic machines, and have no notion of varying results.\n",
    "\n",
    "A (pseudo-)random number generator is used to create stochastic results instead. It starts with an initial *seed*, an integer number (you can give one at the start of the simulation). From this seed, a function creates a stream of `random` values. When looking at the values there does not seem to be any pattern. It is not truly random however. Using the same seed again gives exactly the same stream of numbers. This is the reason to call the function a `pseudo`-random number generator (a true random number generator would never produce the exact same stream of numbers). A sample of a distribution uses one or more numbers from the stream to compute its value. The value of the initial seed thus decides the value of all samples drawn in the simulation.\n",
    "\n",
    "While doing a simulation study, performing several experiments with the same initial seed invalidates the results, as it is equivalent to copying the outcome of a single experiment a number of times. On the other hand, when looking for the cause of a bug in the model, performing the exact same experiment is useful as outcomes of previous experiments should match exactly."
   ]
  },
  {
   "cell_type": "markdown",
   "id": "c612468f",
   "metadata": {},
   "source": [
    "### 6.3.1 Modelling the coincidence problem\n",
    "Let us create our first model. \n",
    "\n",
    "There are two strangers sitting next to each other in the bus. They start talking to each other. To their surprise, they find out they have a friend in common. What a coincidence! We'd like to calculate the odds of this occuring.\n",
    "\n",
    "Our model has as input:\n",
    "- `frA`: the number of friends of person A\n",
    "- `frB`: the number of friends of person B\n",
    "- `population`: the population of the city they both live in.\n",
    "\n",
    "The model to calculate if they have a friend in common is shown below. It returns True if the strangers have a friend in common, and false if they do not."
   ]
  },
  {
   "cell_type": "code",
   "execution_count": null,
   "id": "1f90b9f9",
   "metadata": {},
   "outputs": [],
   "source": [
    "def model(frA, frB, population):\n",
    "    u = lambda: random.randint(1, population)\n",
    "    s = []\n",
    "    for j in range(0, frB):  # generate friends of B\n",
    "        while True:\n",
    "            k = u()\n",
    "            if k not in s:\n",
    "                break\n",
    "        s = s + [k];\n",
    "        if k <= frA:\n",
    "            return True\n",
    "    return False"
   ]
  },
  {
   "cell_type": "markdown",
   "id": "546663dc",
   "metadata": {},
   "source": [
    "Suppose that both person A and B have 200 friends, are living in Eindhoven which has a population of 245000. Lets run the model and see if they have a friend in common."
   ]
  },
  {
   "cell_type": "code",
   "execution_count": null,
   "id": "f2c64060",
   "metadata": {},
   "outputs": [],
   "source": [
    "# Running the model\n",
    "frA = 200\n",
    "frB = 200\n",
    "population = 245000\n",
    "common = model(frA, frB, population)\n",
    "print(f'There {\"is\" if common else \"is not\"} a common acquaintance.')"
   ]
  },
  {
   "cell_type": "markdown",
   "id": "d0b77650",
   "metadata": {},
   "source": [
    "Now obviously, one simulation does not tell much about the odds of two strangers having a common friend. Lets make it an experiment, in which we run the model multiple times:"
   ]
  },
  {
   "cell_type": "code",
   "execution_count": null,
   "id": "23c1a9cc",
   "metadata": {},
   "outputs": [],
   "source": [
    "def experiment(N):\n",
    "    population = 245000\n",
    "    frA = 200\n",
    "    frB = 200\n",
    "    \n",
    "    success = 0\n",
    "    for j in range(0, N):\n",
    "        common = model(frA, frB, population)\n",
    "        if common:\n",
    "            success = success + 1\n",
    "    return success"
   ]
  },
  {
   "cell_type": "markdown",
   "id": "ba91ffc6",
   "metadata": {},
   "source": [
    "If we run the model 10000 times:"
   ]
  },
  {
   "cell_type": "code",
   "execution_count": null,
   "id": "99641f0f",
   "metadata": {},
   "outputs": [],
   "source": [
    "# Running the experiment\n",
    "N = 10000\n",
    "success = experiment(N)\n",
    "print('Probability of common acquaintance = %g' % (success/N))"
   ]
  },
  {
   "cell_type": "markdown",
   "id": "f1aaad25",
   "metadata": {},
   "source": [
    "## 6.4 Exercises"
   ]
  },
  {
   "cell_type": "markdown",
   "id": "a4714156",
   "metadata": {},
   "source": [
    "### Exercise 6.4.1\n",
    "\n",
    "Accoriding to the manual, for a gamma distribution with parameters `(a,b)`, the mean equals $ab$.\n",
    "\n",
    "(a) Verify if this is true for three different pairs of `a` and `b`.\n",
    "\n",
    "(b) How many samples from the distribution are approximately required to determine the mean up to three decimals accurate?"
   ]
  },
  {
   "cell_type": "code",
   "execution_count": null,
   "id": "449158bc",
   "metadata": {},
   "outputs": [],
   "source": [
    "# Exercise 6.4.1\n"
   ]
  },
  {
   "cell_type": "markdown",
   "id": "03cfcfe5",
   "metadata": {},
   "source": [
    "### Exercise 6.4.2\n",
    "\n",
    "Estimate the mean $\\mu$ and variance $\\sigma ^2$ of a triangular distribution triangular($1,2,5$) by simulating 1000 samples. (Recall that the variance $\\sigma ^2$ of $n$ samples $x_i$ can be calculated by: $\\sigma ^2=\\frac{1}{n-1}\\sum_{i=1}^{n} (x_{i}-\\overline{x})^2$.)"
   ]
  },
  {
   "cell_type": "code",
   "execution_count": null,
   "id": "1a9c17d9",
   "metadata": {},
   "outputs": [],
   "source": [
    "# Exercise 6.4.2\n"
   ]
  },
  {
   "cell_type": "markdown",
   "id": "e9e52023",
   "metadata": {},
   "source": [
    "### Exercise 6.4.3\n",
    "\n",
    "We would like to build a small game, called Higher or Lower. The computer picks a random integer number between 1 and 14. The\n",
    "player then has to predict whether the next number will be higher or lower. The computer picks the next random number and compares the new number with the previous one. If the player guesses right his score is doubled. If the player guesses wrong, he looses all and the game is over. Try the following specification."
   ]
  },
  {
   "cell_type": "code",
   "execution_count": null,
   "id": "f7c6e9e3",
   "metadata": {},
   "outputs": [],
   "source": [
    "def HoL():\n",
    "    u = lambda: random.randint(1, 15)\n",
    "    sc = 1\n",
    "    c = True\n",
    "    oldval = 0\n",
    "    \n",
    "    new = u()\n",
    "    print(\"Your score is: \", sc)\n",
    "    print(\"The computer drew: \", new)\n",
    "    \n",
    "    while c:\n",
    "        s = input('(h)igher or (l)ower: ')\n",
    "        oldval = new\n",
    "        new = u()\n",
    "        print(\"The computer drew: \", new)\n",
    "        if new == oldval:\n",
    "            c = False\n",
    "        else:\n",
    "            c = (new > oldval) == (s == \"h\")\n",
    "        if c:\n",
    "            sc = 2*sc\n",
    "        else:\n",
    "            sc = 0\n",
    "        print(\"Your score is: \", sc)\n",
    "    \n",
    "    print(\"GAME OVER...\")"
   ]
  },
  {
   "cell_type": "markdown",
   "id": "9a84d8b2",
   "metadata": {},
   "source": [
    "(a) What is the begin score?\n",
    "\n",
    "(b) What is the maximum end score?\n",
    "\n",
    "(c) What happens when the drawn sample is equal to the previous drawn sample?\n",
    "\n",
    "(d) Extend this game specification with the possibility to stop."
   ]
  },
  {
   "cell_type": "code",
   "execution_count": null,
   "id": "bc7e5e3b",
   "metadata": {},
   "outputs": [],
   "source": [
    "# exercise 3d\n",
    "def HoL():\n",
    "    ...\n",
    "\n",
    "    \n"
   ]
  },
  {
   "cell_type": "code",
   "execution_count": null,
   "id": "42d6dcf5",
   "metadata": {},
   "outputs": [],
   "source": [
    "HoL()"
   ]
  },
  {
   "cell_type": "markdown",
   "id": "e7765dc3",
   "metadata": {},
   "source": [
    "## 6.5 Answers to exercises"
   ]
  },
  {
   "cell_type": "markdown",
   "id": "c6871e93",
   "metadata": {},
   "source": [
    "### Answer to 6.4.1\n",
    "\n",
    "<details>\n",
    "    <summary>[Click for the answer to 6.4.1]</summary>\n",
    "\n",
    "**A.** The mean produced is close to $ab$\n",
    "    \n",
    "---\n",
    "**B.**\n",
    "```python\n",
    "def model(a, b, N):\n",
    "    sum = 0.0\n",
    "    for i in range(1,N+1):\n",
    "        u = random.gamma(a,b)\n",
    "        sum = sum + u\n",
    "    print(\"The mean is: \", sum/N)\n",
    "    \n",
    "model(1,2,1000000)\n",
    "```\n",
    "</details>"
   ]
  },
  {
   "cell_type": "markdown",
   "id": "499ccee7",
   "metadata": {},
   "source": [
    "### Answer to 6.4.2\n",
    "<details>\n",
    "    <summary>[Click for the answer to 6.4.2]</summary>\n",
    "\n",
    "```python\n",
    "def model():\n",
    "    u = lambda: random.triangular(1, 2, 5)\n",
    "    mean  = 0.0\n",
    "    variance = 0.0\n",
    "    for i in range (1,1001):\n",
    "        store = u()\n",
    "        mean = (mean * (i-1) + store) / i;\n",
    "        if i != 1:\n",
    "            variance = ((i-2) * variance + (store - mean)**2) / (i-1)\n",
    "        else:\n",
    "            variance = 0.0\n",
    "    print(\"The mean is: \", mean)\n",
    "    print(\"The variance is: \", variance\n",
    "          \n",
    "model()\n",
    "```\n",
    "</details>"
   ]
  },
  {
   "cell_type": "markdown",
   "id": "de057783",
   "metadata": {},
   "source": [
    "### Answer to 6.4.3\n",
    "\n",
    "<details>\n",
    "    <summary>[Click for the answer to 6.4.3]</summary>\n",
    "\n",
    "**A.** Initially, the score is 1 as can be seen from the initial value assigned to the variable `sc`.\n",
    "\n",
    "---\n",
    "**B.** There is (in principal) no maximum end score, although the range of integers will be limited and therefore and error may be generated.\n",
    "\n",
    "---\n",
    "**C.**  In that case the game stops.\n",
    "\n",
    "---\n",
    "**D.**\n",
    "\n",
    "```python\n",
    "def HoL():\n",
    "    u = lambda: random.randint(1,15)\n",
    "    sc = 1\n",
    "    c = True\n",
    "    d = True\n",
    "    oldval = 0\n",
    "    \n",
    "    new = u()\n",
    "    print(\"Your score is: \", sc)\n",
    "    print(\"The computer drew: \", new)\n",
    "    \n",
    "    while c and d:\n",
    "        s = input('(h)igher or (l)ower?')\n",
    "        oldval = new\n",
    "        new = u()\n",
    "        print(\"The computer drew: \", new)\n",
    "        if new == oldval:\n",
    "            c = False\n",
    "        else:\n",
    "            c = (new > oldval) == (s == \"h\")\n",
    "        if c:\n",
    "            sc = 2*sc\n",
    "        else:\n",
    "            sc = 0\n",
    "        print(\"Your score is: \", sc)\n",
    "        if c:\n",
    "            s = input('Do you want to (s)top, or (c)ontinue?')\n",
    "            d = s == \"c\"\n",
    "    \n",
    "    print(\"GAME OVER...\")\n",
    "        \n",
    "HoL()\n",
    "```\n",
    "</details>"
   ]
  }
 ],
 "metadata": {
  "kernelspec": {
   "display_name": "Python (pychEnv)",
   "language": "python",
   "name": "pychenv"
  },
  "language_info": {
   "codemirror_mode": {
    "name": "ipython",
    "version": 3
   },
   "file_extension": ".py",
   "mimetype": "text/x-python",
   "name": "python",
   "nbconvert_exporter": "python",
   "pygments_lexer": "ipython3",
   "version": "3.12.7"
  }
 },
 "nbformat": 4,
 "nbformat_minor": 5
}
